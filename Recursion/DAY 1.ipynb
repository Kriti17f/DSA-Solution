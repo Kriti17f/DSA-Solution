{
 "cells": [
  {
   "cell_type": "markdown",
   "metadata": {},
   "source": [
    "# 1. Nth Fibonacci\n",
    "## Problem Statement:\n",
    "### The Fibonacci sequence is defined as follows: the first number of the sequence is 0, the\n",
    "### second number is 1 and the nth number is the sum of the (n - 1)th and (n - 2)th numbers. Write a\n",
    "### function that takes in an integer n and returns the nth Fibonacci number.\n",
    "### Important note: the Fibonacci sequence is often defined with its first two numbers as F0 = 0 and\n",
    "### F1= 1. For the purpose of this question, the first Fibonacci number is F0; therefore, getNthFib(1) is\n",
    "### equal to F0, getNthFib(2) is equal to F1, etc.."
   ]
  },
  {
   "cell_type": "code",
   "execution_count": 1,
   "metadata": {},
   "outputs": [
    {
     "name": "stdout",
     "output_type": "stream",
     "text": [
      "Enter the no.: 10\n"
     ]
    },
    {
     "data": {
      "text/plain": [
       "34"
      ]
     },
     "execution_count": 1,
     "metadata": {},
     "output_type": "execute_result"
    }
   ],
   "source": [
    "def fibo(n):\n",
    "    if n == 0:\n",
    "        return 0\n",
    "    if n == 1:\n",
    "        return 1\n",
    "    return fibo(n-1)+fibo(n-2)\n",
    "\n",
    "n = int(input(\"Enter the no.: \"))\n",
    "fibo(n-1)"
   ]
  },
  {
   "cell_type": "markdown",
   "metadata": {},
   "source": [
    "# 2. Product Sum\n",
    "## Problem Statement:\n",
    "### Write a function that takes in a \"special\" array and returns its product sum. A \"special\" array is a non-empty array that contains either integers or other \"special\" arrays. The product sum of a \"special\" array is the sum of its elements, where \"special\" arrays inside it are summed themselves and then multiplied by their level of depth. The depth of a \"special\" array is how far nested it is. \n",
    "### For instance, the depth of []is 1; the depth of the inner array in [[]] is 2; the depth of the innermost array in [[[]]] is 3.\n",
    "### Therefore, the product sum of [x, y] is x + y; \n",
    "### the product sum of [x, [y, z]] is x + 2 * (y + z);\n",
    "### the product sum of [x, [y, [z]]] is x + 2 * (y + 3z)."
   ]
  },
  {
   "cell_type": "code",
   "execution_count": 2,
   "metadata": {},
   "outputs": [
    {
     "data": {
      "text/plain": [
       "12"
      ]
     },
     "execution_count": 2,
     "metadata": {},
     "output_type": "execute_result"
    }
   ],
   "source": [
    "def sumpro(l,c):\n",
    "    sum=0\n",
    "    for i in l:\n",
    "        if type(i) == int:\n",
    "            sum+=i\n",
    "            #print(\"int={}\".format(sum))\n",
    "        elif type(i) == list:\n",
    "            c+=1\n",
    "            sum = sum + c * sumpro(i,c)\n",
    "            #print(\"li={}\".format(sum))\n",
    "            c=1\n",
    "    return sum\n",
    "\n",
    "#l = list(map(int,[input(), int(input())].split()))\n",
    "#sumpro(l,1)\n",
    "sumpro([5,2,[7,-1],3,[6,[-13,8],4]],1)"
   ]
  },
  {
   "cell_type": "code",
   "execution_count": null,
   "metadata": {},
   "outputs": [],
   "source": [
    "'''\n",
    "li = []\n",
    "print(\"Enter the elements of the list:\\nfor int: 1\\nfor list: 2\")\n",
    "while True:\n",
    "    n = int(input())\n",
    "    if(n == 1):\n",
    "        l = int(input())\n",
    "        li.append(l)\n",
    "    elif n == 2:\n",
    "        l = list(map(int,input().split()))\n",
    "        li.append(l)\n",
    "    else:\n",
    "        break\n",
    "    \n",
    "print(li)\n",
    "'''"
   ]
  },
  {
   "cell_type": "code",
   "execution_count": null,
   "metadata": {},
   "outputs": [],
   "source": [
    "'''\n",
    "lst = [ ] \n",
    "n = int(input(\"Enter number of elements : \")) \n",
    "  \n",
    "for i in range(0, n): \n",
    "    ele = [int(input()), int(input())] \n",
    "    lst.append(ele) \n",
    "      \n",
    "print(lst)\n",
    "'''"
   ]
  },
  {
   "cell_type": "markdown",
   "metadata": {},
   "source": [
    "# Permutations\n",
    "## Problem Statement:\n",
    "### Write a function that takes in an array of unique integers and returns an array of all permutations of those integers in no particular order. If the input array is empty, the function should return an empty array."
   ]
  },
  {
   "cell_type": "code",
   "execution_count": 3,
   "metadata": {},
   "outputs": [],
   "source": [
    "# 3. Permutation\n",
    "def permutation(arr, parr, power_set):\n",
    "    if len(arr) == 0:\n",
    "        power_set.append(parr)\n",
    "    else:\n",
    "        for i in range(len(arr)):\n",
    "            carr = parr + [arr[i]]\n",
    "            #print(arr)\n",
    "            narr = arr[:i] + arr[i+1:]\n",
    "            #print(parr)\n",
    "            permutation(narr,carr,power_set)\n",
    "    return power_set"
   ]
  },
  {
   "cell_type": "code",
   "execution_count": 4,
   "metadata": {},
   "outputs": [
    {
     "data": {
      "text/plain": [
       "[[1, 2, 3], [1, 3, 2], [2, 1, 3], [2, 3, 1], [3, 1, 2], [3, 2, 1]]"
      ]
     },
     "execution_count": 4,
     "metadata": {},
     "output_type": "execute_result"
    }
   ],
   "source": [
    "permutation([1,2,3], [], [])"
   ]
  }
 ],
 "metadata": {
  "kernelspec": {
   "display_name": "Python 3",
   "language": "python",
   "name": "python3"
  },
  "language_info": {
   "codemirror_mode": {
    "name": "ipython",
    "version": 3
   },
   "file_extension": ".py",
   "mimetype": "text/x-python",
   "name": "python",
   "nbconvert_exporter": "python",
   "pygments_lexer": "ipython3",
   "version": "3.8.5"
  }
 },
 "nbformat": 4,
 "nbformat_minor": 4
}
